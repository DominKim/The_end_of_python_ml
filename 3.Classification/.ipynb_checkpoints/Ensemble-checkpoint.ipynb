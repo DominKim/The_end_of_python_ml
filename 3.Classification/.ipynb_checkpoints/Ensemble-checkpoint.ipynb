{
 "cells": [
  {
   "cell_type": "code",
   "execution_count": 1,
   "metadata": {},
   "outputs": [],
   "source": [
    "# 보팅, 배깅\n",
    "# 여러 개의 분류기가 투표를 통해 최종 예측 결과를 결정하는 방식\n",
    "# 보팅\n",
    "# 서로 다른 알고리즘을 가진 분류기를 결합하는 것\n",
    "# 배깅\n",
    "# 각각의 분류기가 모두 같은 유형의 알고리즘 기반이지만, 데이터 샘플링을 서로 다르게 가져가면서 학습을 수애행 보팅을 \n",
    "# 수행하는 것\n",
    "# 부스팅\n",
    "# 여러 개의 분류기가 순차적으로 학습을 수행하되, 앞에서 학습한 분류기가 에측이 틀린데이터에 대해서는 올바르게 예측할 수\n",
    "# 있도록 다음 분류기에게는 가중치를 부여하면서 학습과 예측을 진행하는 것"
   ]
  },
  {
   "cell_type": "code",
   "execution_count": 3,
   "metadata": {},
   "outputs": [
    {
     "data": {
      "text/html": [
       "<div>\n",
       "<style scoped>\n",
       "    .dataframe tbody tr th:only-of-type {\n",
       "        vertical-align: middle;\n",
       "    }\n",
       "\n",
       "    .dataframe tbody tr th {\n",
       "        vertical-align: top;\n",
       "    }\n",
       "\n",
       "    .dataframe thead th {\n",
       "        text-align: right;\n",
       "    }\n",
       "</style>\n",
       "<table border=\"1\" class=\"dataframe\">\n",
       "  <thead>\n",
       "    <tr style=\"text-align: right;\">\n",
       "      <th></th>\n",
       "      <th>mean radius</th>\n",
       "      <th>mean texture</th>\n",
       "      <th>mean perimeter</th>\n",
       "      <th>mean area</th>\n",
       "      <th>mean smoothness</th>\n",
       "      <th>mean compactness</th>\n",
       "      <th>mean concavity</th>\n",
       "      <th>mean concave points</th>\n",
       "      <th>mean symmetry</th>\n",
       "      <th>mean fractal dimension</th>\n",
       "      <th>...</th>\n",
       "      <th>worst radius</th>\n",
       "      <th>worst texture</th>\n",
       "      <th>worst perimeter</th>\n",
       "      <th>worst area</th>\n",
       "      <th>worst smoothness</th>\n",
       "      <th>worst compactness</th>\n",
       "      <th>worst concavity</th>\n",
       "      <th>worst concave points</th>\n",
       "      <th>worst symmetry</th>\n",
       "      <th>worst fractal dimension</th>\n",
       "    </tr>\n",
       "  </thead>\n",
       "  <tbody>\n",
       "    <tr>\n",
       "      <th>0</th>\n",
       "      <td>17.99</td>\n",
       "      <td>10.38</td>\n",
       "      <td>122.8</td>\n",
       "      <td>1001.0</td>\n",
       "      <td>0.11840</td>\n",
       "      <td>0.27760</td>\n",
       "      <td>0.3001</td>\n",
       "      <td>0.14710</td>\n",
       "      <td>0.2419</td>\n",
       "      <td>0.07871</td>\n",
       "      <td>...</td>\n",
       "      <td>25.38</td>\n",
       "      <td>17.33</td>\n",
       "      <td>184.6</td>\n",
       "      <td>2019.0</td>\n",
       "      <td>0.1622</td>\n",
       "      <td>0.6656</td>\n",
       "      <td>0.7119</td>\n",
       "      <td>0.2654</td>\n",
       "      <td>0.4601</td>\n",
       "      <td>0.11890</td>\n",
       "    </tr>\n",
       "    <tr>\n",
       "      <th>1</th>\n",
       "      <td>20.57</td>\n",
       "      <td>17.77</td>\n",
       "      <td>132.9</td>\n",
       "      <td>1326.0</td>\n",
       "      <td>0.08474</td>\n",
       "      <td>0.07864</td>\n",
       "      <td>0.0869</td>\n",
       "      <td>0.07017</td>\n",
       "      <td>0.1812</td>\n",
       "      <td>0.05667</td>\n",
       "      <td>...</td>\n",
       "      <td>24.99</td>\n",
       "      <td>23.41</td>\n",
       "      <td>158.8</td>\n",
       "      <td>1956.0</td>\n",
       "      <td>0.1238</td>\n",
       "      <td>0.1866</td>\n",
       "      <td>0.2416</td>\n",
       "      <td>0.1860</td>\n",
       "      <td>0.2750</td>\n",
       "      <td>0.08902</td>\n",
       "    </tr>\n",
       "    <tr>\n",
       "      <th>2</th>\n",
       "      <td>19.69</td>\n",
       "      <td>21.25</td>\n",
       "      <td>130.0</td>\n",
       "      <td>1203.0</td>\n",
       "      <td>0.10960</td>\n",
       "      <td>0.15990</td>\n",
       "      <td>0.1974</td>\n",
       "      <td>0.12790</td>\n",
       "      <td>0.2069</td>\n",
       "      <td>0.05999</td>\n",
       "      <td>...</td>\n",
       "      <td>23.57</td>\n",
       "      <td>25.53</td>\n",
       "      <td>152.5</td>\n",
       "      <td>1709.0</td>\n",
       "      <td>0.1444</td>\n",
       "      <td>0.4245</td>\n",
       "      <td>0.4504</td>\n",
       "      <td>0.2430</td>\n",
       "      <td>0.3613</td>\n",
       "      <td>0.08758</td>\n",
       "    </tr>\n",
       "  </tbody>\n",
       "</table>\n",
       "<p>3 rows × 30 columns</p>\n",
       "</div>"
      ],
      "text/plain": [
       "   mean radius  mean texture  mean perimeter  mean area  mean smoothness  \\\n",
       "0        17.99         10.38           122.8     1001.0          0.11840   \n",
       "1        20.57         17.77           132.9     1326.0          0.08474   \n",
       "2        19.69         21.25           130.0     1203.0          0.10960   \n",
       "\n",
       "   mean compactness  mean concavity  mean concave points  mean symmetry  \\\n",
       "0           0.27760          0.3001              0.14710         0.2419   \n",
       "1           0.07864          0.0869              0.07017         0.1812   \n",
       "2           0.15990          0.1974              0.12790         0.2069   \n",
       "\n",
       "   mean fractal dimension  ...  worst radius  worst texture  worst perimeter  \\\n",
       "0                 0.07871  ...         25.38          17.33            184.6   \n",
       "1                 0.05667  ...         24.99          23.41            158.8   \n",
       "2                 0.05999  ...         23.57          25.53            152.5   \n",
       "\n",
       "   worst area  worst smoothness  worst compactness  worst concavity  \\\n",
       "0      2019.0            0.1622             0.6656           0.7119   \n",
       "1      1956.0            0.1238             0.1866           0.2416   \n",
       "2      1709.0            0.1444             0.4245           0.4504   \n",
       "\n",
       "   worst concave points  worst symmetry  worst fractal dimension  \n",
       "0                0.2654          0.4601                  0.11890  \n",
       "1                0.1860          0.2750                  0.08902  \n",
       "2                0.2430          0.3613                  0.08758  \n",
       "\n",
       "[3 rows x 30 columns]"
      ]
     },
     "execution_count": 3,
     "metadata": {},
     "output_type": "execute_result"
    }
   ],
   "source": [
    "import pandas as pd\n",
    "\n",
    "from sklearn.ensemble import VotingClassifier\n",
    "from sklearn.linear_model import LogisticRegression\n",
    "from sklearn.neighbors import KNeighborsClassifier\n",
    "from sklearn.datasets import load_breast_cancer\n",
    "from sklearn.model_selection import train_test_split\n",
    "from sklearn.metrics import accuracy_score\n",
    "import warnings\n",
    "warnings.filterwarnings(\"ignore\")\n",
    "\n",
    "cancer = load_breast_cancer()\n",
    "\n",
    "data_df = pd.DataFrame(cancer.data, columns = cancer.feature_names)\n",
    "data_df.head(3)"
   ]
  },
  {
   "cell_type": "code",
   "execution_count": 4,
   "metadata": {},
   "outputs": [
    {
     "name": "stdout",
     "output_type": "stream",
     "text": [
      "Voting 분류기 정확도 : 0.9474\n",
      "LogisticRegression 정확도 : 0.9386\n",
      "KNeighborsClassifier 정확도 : 0.9386\n"
     ]
    }
   ],
   "source": [
    "# 개별 모델은 로지스틱 회귀와 KNN임.\n",
    "lr_clf = LogisticRegression()\n",
    "knn_clf = KNeighborsClassifier(n_neighbors = 8)\n",
    "\n",
    "# 개별 모델을 소프트 보팅 기반의 앙상블 모델로 구현한 분류기\n",
    "vo_clf = VotingClassifier(estimators = [(\"LR\", lr_clf), (\"KNN\", knn_clf)], voting = \"soft\")\n",
    "\n",
    "x_train, x_test, y_train, y_test = train_test_split(cancer.data, cancer.target,\n",
    "                                                   test_size = 0.2, random_state = 156)\n",
    "\n",
    "# VotingClassifier 학습/예측/평가.\n",
    "vo_clf.fit(x_train, y_train)\n",
    "pred = vo_clf.predict(x_test)\n",
    "print(\"Voting 분류기 정확도 : {0:.4f}\".format(accuracy_score(y_test, pred)))\n",
    "\n",
    "# 개별 모델의 학습/예측/평가.\n",
    "classifiers = [lr_clf, knn_clf]\n",
    "for classifier in classifiers:\n",
    "    classifier.fit(x_train, y_train)\n",
    "    pred = classifier.predict(x_test)\n",
    "    class_name = classifier.__class__.__name__\n",
    "    print(\"{0} 정확도 : {1:.4f}\".format(class_name, accuracy_score(y_test, pred)))"
   ]
  },
  {
   "cell_type": "code",
   "execution_count": 9,
   "metadata": {},
   "outputs": [],
   "source": [
    "# 부트스트래핑 분할방식\n",
    "# 여러 개의 데이터 세트를 중첩되게 분리하는 것\n",
    "# 부트스트랩\n",
    "# 여러 개의 작은 데이터 세트를 임의로 만들어 개별 평균의 분포도를 측정하는 등의 목적을 위한 샘프링 방식\n",
    "def get_new_feature_name_df(old_feature_name_df):\n",
    "    feature_dup_df = pd.DataFrame(data=old_feature_name_df.groupby(\"column_name\").cumcount(),\n",
    "                                 columns = [\"dup_cnt\"])\n",
    "    feature_dup_df = feature_dup_df.reset_index()\n",
    "    new_feature_name_df = pd.merge(old_feature_name_df.reset_index(), feature_dup_df,\n",
    "                                  how = \"outer\")\n",
    "    new_feature_name_df[\"column_name\"] = new_feature_name_df[[\"column_name\",\n",
    "                                                             \"dup_cnt\"]].apply(lambda x : x[0] + \"_\" + str(x[1])\n",
    "                                                                              if x[1] > 0 else x[0], axis = 1)\n",
    "    new_feature_name_df = new_feature_name_df.drop([\"index\"], axis = 1)\n",
    "    return new_feature_name_df\n",
    "\n",
    "def get_human_dataset():\n",
    "    \n",
    "    # 각 데이터 파일은 공백으로 분리되어 있으므로 read_csv에서 공백 문자를 sep로 할당.\n",
    "    feature_name_df = pd.read_csv(\"../../data/human_activity/features.txt\", sep = \"\\s+\",\n",
    "                                 header=None, names = [\"column_index\", \"column_name\"])\n",
    "    \n",
    "    # 중복된 피처명을 수정하는 get_new_feature_name_df()를 이용, 신규 피처명 DataFrame 생성.\n",
    "    new_feature_name_df = get_new_feature_name_df(feature_name_df)\n",
    "    \n",
    "    # DataFrame에 피처명을 칼럼으로 부여학 위해 리스트 객체로 다시 변환\n",
    "    feature_name = new_feature_name_df.iloc[:, 1].values.tolist()\n",
    "    \n",
    "    # 학습 피처 데이터세트와 테스트 피처 데이터를 DataFrame으로 로딩. 칼럼명은 feature_name 적용\n",
    "    x_train = pd.read_csv(\"../../data/human_activity/train/X_train.txt\", sep = \"\\s+\", names = feature_name)\n",
    "    x_test = pd.read_csv(\"../../data/human_activity/test/X_test.txt\", sep = \"\\s+\", names = feature_name)\n",
    "    \n",
    "    # 학습 레이블과 테스트 레이블 데이터를 DataFrame으로 로딩하고 칼럼명은 action으로 부여\n",
    "    y_train = pd.read_csv(\"../../data/human_activity/train/y_train.txt\", sep=\"\\s+\",header=None, names=[\"action\"])\n",
    "    y_test = pd.read_csv(\"../../data/human_activity/test/y_test.txt\", sep=\"\\s+\",header=None, names=[\"action\"])\n",
    "    \n",
    "    # 로드된 학습/테스트용 DataFrame을 모두 반환\n",
    "    return x_train, x_test, y_train, y_test"
   ]
  },
  {
   "cell_type": "code",
   "execution_count": 10,
   "metadata": {},
   "outputs": [
    {
     "name": "stdout",
     "output_type": "stream",
     "text": [
      "랜덤 포레스트 정확도 : 0.9253\n"
     ]
    }
   ],
   "source": [
    "from sklearn.ensemble import RandomForestClassifier\n",
    "from sklearn.metrics import accuracy_score\n",
    "import pandas as pd\n",
    "import warnings\n",
    "warnings.filterwarnings(\"ignore\")\n",
    "\n",
    "# 결정 트리에서 사용한 get_human_dataset()를 이용해 학습/테스트용 DataFrame 반환\n",
    "x_train, x_test, y_train, y_test = get_human_dataset()\n",
    "\n",
    "# 랜덤 포레스트 학습 및 별도의 테스트 세트로 예측 성능 평가\n",
    "rf_clf = RandomForestClassifier(random_state = 0)\n",
    "rf_clf.fit(x_train, y_train)\n",
    "pred = rf_clf.predict(x_test)\n",
    "accuracy = accuracy_score(y_test, pred)\n",
    "print(\"랜덤 포레스트 정확도 : {0:.4f}\".format(accuracy))"
   ]
  },
  {
   "cell_type": "code",
   "execution_count": 11,
   "metadata": {},
   "outputs": [
    {
     "name": "stdout",
     "output_type": "stream",
     "text": [
      "최적 하이퍼 파라미터:\n",
      " {'max_depth': 10, 'min_samples_leaf': 8, 'min_samples_split': 8, 'n_estimators': 100}\n",
      "최고 예측 정확도: 0.9180\n"
     ]
    }
   ],
   "source": [
    "from sklearn.model_selection import GridSearchCV\n",
    "\n",
    "params = {\n",
    "    \"n_estimators\":[100],\n",
    "    \"max_depth\":[6,8,10,12],\n",
    "    \"min_samples_leaf\":[8,12,18],\n",
    "    \"min_samples_split\":[8,16,20]\n",
    "}\n",
    "# RandomForestClassifier 객체 생성 후 GrdiSearchCV 수행\n",
    "rf_clf = RandomForestClassifier(random_state = 0, n_jobs = -1)\n",
    "grid_cv = GridSearchCV(rf_clf, param_grid = params, cv = 2, n_jobs = -1)\n",
    "grid_cv.fit(x_train, y_train)\n",
    "\n",
    "print(\"최적 하이퍼 파라미터:\\n\", grid_cv.best_params_)\n",
    "print(\"최고 예측 정확도: {0:.4f}\".format(grid_cv.best_score_))"
   ]
  },
  {
   "cell_type": "code",
   "execution_count": 12,
   "metadata": {},
   "outputs": [
    {
     "name": "stdout",
     "output_type": "stream",
     "text": [
      "예측 정확도 : 0.9165\n"
     ]
    }
   ],
   "source": [
    "rf_clf1 = RandomForestClassifier(n_estimators = 300, max_depth = 10, \n",
    "                                min_samples_split = 8, min_samples_leaf = 8, random_state=0)\n",
    "rf_clf1.fit(x_train, y_train)\n",
    "pred = rf_clf1.predict(x_test)\n",
    "print(\"예측 정확도 : {0:.4f}\".format(accuracy_score(y_test, pred)))"
   ]
  },
  {
   "cell_type": "code",
   "execution_count": 13,
   "metadata": {},
   "outputs": [
    {
     "data": {
      "text/plain": [
       "<matplotlib.axes._subplots.AxesSubplot at 0x7ffb10f8b050>"
      ]
     },
     "execution_count": 13,
     "metadata": {},
     "output_type": "execute_result"
    },
    {
     "data": {
      "image/png": "[encoded data removed]",
      "text/plain": [
       "<Figure size 576x432 with 1 Axes>"
      ]
     },
     "metadata": {
      "needs_background": "light"
     },
     "output_type": "display_data"
    }
   ],
   "source": [
    "import matplotlib.pyplot as plt\n",
    "import seaborn as sns\n",
    "%matplotlib inline\n",
    "\n",
    "ftr_importances_values = rf_clf1.feature_importances_\n",
    "ftr_importances = pd.Series(ftr_importances_values, index = x_train.columns)\n",
    "ftr_top20 = ftr_importances.sort_values(ascending = False)[:20]\n",
    "\n",
    "plt.figure(figsize = (8,6))\n",
    "plt.title(\"Feature importances Top 20\")\n",
    "sns.barplot(x=ftr_top20, y=ftr_top20.index)\n"
   ]
  },
  {
   "cell_type": "code",
   "execution_count": 14,
   "metadata": {},
   "outputs": [
    {
     "name": "stdout",
     "output_type": "stream",
     "text": [
      "GBM 정확도: 0.9393\n",
      "GBM 수행 시간: 656.8 초\n"
     ]
    }
   ],
   "source": [
    "from sklearn.ensemble import GradientBoostingClassifier\n",
    "import time\n",
    "import warnings\n",
    "warnings.filterwarnings(\"ignore\")\n",
    "\n",
    "x_train, x_test, y_train, y_test = get_human_dataset()\n",
    "\n",
    "# GBM 수행 시간 측정을 위함. 시작 시간 설정.\n",
    "start_time = time.time()\n",
    "gb_clf = GradientBoostingClassifier(random_state = 0)\n",
    "gb_clf.fit(x_train, y_train)\n",
    "gb_pred = gb_clf.predict(x_test)\n",
    "gb_accuracy = accuracy_score(y_test, gb_pred)\n",
    "\n",
    "print(\"GBM 정확도: {0:.4f}\".format(gb_accuracy))\n",
    "print(\"GBM 수행 시간: {0:.1f} 초\".format(time.time() - start_time))"
   ]
  },
  {
   "cell_type": "code",
   "execution_count": null,
   "metadata": {},
   "outputs": [],
   "source": [
    "from sklearn.model_selection import GrdiSearchCV\n",
    "\n",
    "params = {\n",
    "    \"n_estimators\" : [100, 500],\n",
    "    \"learning_rate\" : [0.05, 0.1]\n",
    "}\n",
    "\n",
    "grid_cv = GridSearchCV(gb_clf, param_grid = params, cv = 2, verbose = 1)\n",
    "grid_cv.fit(x_train, y_train)\n",
    "print(\"최적 하이퍼 파라미터:\\n\", grid_cv.best_params_)\n",
    "print(\"최고 예측 정확도: {0:.4f}\".format(grid_cv.best_score_))"
   ]
  },
  {
   "cell_type": "code",
   "execution_count": null,
   "metadata": {},
   "outputs": [],
   "source": [
    "# XGBoost\n",
    "# 분류에 있어서 일반적으로 다른 머신러닝보다 뛰어난 예측 성능을 나타냄"
   ]
  },
  {
   "cell_type": "code",
   "execution_count": 15,
   "metadata": {},
   "outputs": [],
   "source": [
    "import xgboost as xgb\n",
    "from xgboost import XGBClassifier"
   ]
  },
  {
   "cell_type": "code",
   "execution_count": 16,
   "metadata": {},
   "outputs": [],
   "source": [
    "# xgboost 파라미터\n",
    "# bosster\n",
    "# silent : 출력 메시지를 나타내고 싶지 않을 겨우 1로 설정\n",
    "# nthread : CPU의 실행 스레드 개수를 조정\n",
    "# learning_rate : 학습률\n",
    "# n_estimators : 약한가지 갯수\n",
    "# min_child_weight : 트리에서 추가적으로 가지를 나눌지를 결정하기 위해 필요한 가중치 합\n",
    "# gamma : 최소 손실 감소 값(값이 클수록 과적합 감소효과)\n",
    "# max_depth : 트리 깊이 지정\n",
    "# subsample : 샘플링하는 비율 지정\n",
    "# colsample_bytree : max_features\n",
    "# reg_lambda : L2 규제\n",
    "# reg_alpha : L1 규제\n",
    "# scale_pos_weight : 불균형 데이터 세트의 균형 유지를 위한 파라미터\n",
    "from sklearn.datasets import load_breast_cancer\n",
    "\n",
    "dataset = load_breast_cancer()\n",
    "x_features = dataset.data\n",
    "y_label = dataset.target\n",
    "\n",
    "x_train, x_test, y_train, y_test = train_test_split(x_features, y_label,\n",
    "                                                   test_size = 0.2, random_state = 156)"
   ]
  },
  {
   "cell_type": "code",
   "execution_count": 22,
   "metadata": {},
   "outputs": [],
   "source": [
    "from sklearn.metrics import confusion_matrix\n",
    "from sklearn.metrics import accuracy_score\n",
    "from sklearn.metrics import precision_score\n",
    "from sklearn.metrics import recall_score\n",
    "from sklearn.metrics import f1_score\n",
    "from sklearn.metrics import roc_auc_score\n",
    "\n",
    "def get_clf_eval(y_test, pred, pred_proba):\n",
    "    confusion = confusion_matrix(y_test, pred)\n",
    "    accuracy = accuracy_score(y_test, pred)\n",
    "    precision = precision_score(y_test, pred)\n",
    "    recall = recall_score(y_test, pred)\n",
    "    f1 = f1_score(y_test, pred)\n",
    "    # ROC-AUC 추가\n",
    "    roc_auc = roc_auc_score(y_test, pred_proba)\n",
    "    print(\"오차행렬\")\n",
    "    print(confusion)\n",
    "    # ROC-AUC pring 추가\n",
    "    print(\"정확도:{0:.4f}, 정밀도:{1:.4f}, 재현율:{2:.4f}, F1:{3:.4f}, AUC:{4:.4f}\"\n",
    "          .format(accuracy, precision, recall, f1, roc_auc))"
   ]
  },
  {
   "cell_type": "code",
   "execution_count": 23,
   "metadata": {},
   "outputs": [
    {
     "name": "stdout",
     "output_type": "stream",
     "text": [
      "[22:36:11] WARNING: /Users/travis/build/dmlc/xgboost/src/learner.cc:480: \n",
      "Parameters: { learing_rate, n_estimator } might not be used.\n",
      "\n",
      "  This may not be accurate due to some parameters are only used in language bindings but\n",
      "  passed down to XGBoost core.  Or some parameters are not used but slip through this\n",
      "  verification. Please open an issue if you find above cases.\n",
      "\n",
      "\n",
      "오차행렬\n",
      "[[35  2]\n",
      " [ 2 75]]\n",
      "정확도:0.9649, 정밀도:0.9740, 재현율:0.9740, F1:0.9740, AUC:0.9958\n"
     ]
    }
   ],
   "source": [
    "# 사이킷런 래퍼 XGBoost 클래스인 XGBClassifier 임포트\n",
    "from xgboost import XGBClassifier\n",
    "\n",
    "xgb_wrapper = XGBClassifier(n_estimator = 400, learing_rate = 0.1, max_depth = 3)\n",
    "xgb_wrapper.fit(x_train, y_train)\n",
    "w_preds = xgb_wrapper.predict(x_test)\n",
    "w_pred_proba = xgb_wrapper.predict_proba(x_test)[:,1]\n",
    "get_clf_eval(y_test, w_preds, w_pred_proba)"
   ]
  },
  {
   "cell_type": "code",
   "execution_count": 25,
   "metadata": {},
   "outputs": [
    {
     "name": "stdout",
     "output_type": "stream",
     "text": [
      "[22:39:03] WARNING: /Users/travis/build/dmlc/xgboost/src/learner.cc:480: \n",
      "Parameters: { learing_rate } might not be used.\n",
      "\n",
      "  This may not be accurate due to some parameters are only used in language bindings but\n",
      "  passed down to XGBoost core.  Or some parameters are not used but slip through this\n",
      "  verification. Please open an issue if you find above cases.\n",
      "\n",
      "\n",
      "[0]\tvalidation_0-logloss:0.47984\n",
      "Will train until validation_0-logloss hasn't improved in 100 rounds.\n",
      "[1]\tvalidation_0-logloss:0.36218\n",
      "[2]\tvalidation_0-logloss:0.29004\n",
      "[3]\tvalidation_0-logloss:0.23382\n",
      "[4]\tvalidation_0-logloss:0.19901\n",
      "[5]\tvalidation_0-logloss:0.17469\n",
      "[6]\tvalidation_0-logloss:0.15549\n",
      "[7]\tvalidation_0-logloss:0.13367\n",
      "[8]\tvalidation_0-logloss:0.12411\n",
      "[9]\tvalidation_0-logloss:0.11611\n",
      "[10]\tvalidation_0-logloss:0.10768\n",
      "[11]\tvalidation_0-logloss:0.10018\n",
      "[12]\tvalidation_0-logloss:0.09754\n",
      "[13]\tvalidation_0-logloss:0.08920\n",
      "[14]\tvalidation_0-logloss:0.09259\n",
      "[15]\tvalidation_0-logloss:0.09144\n",
      "[16]\tvalidation_0-logloss:0.09066\n",
      "[17]\tvalidation_0-logloss:0.09058\n",
      "[18]\tvalidation_0-logloss:0.08894\n",
      "[19]\tvalidation_0-logloss:0.08622\n",
      "[20]\tvalidation_0-logloss:0.08694\n",
      "[21]\tvalidation_0-logloss:0.08437\n",
      "[22]\tvalidation_0-logloss:0.08092\n",
      "[23]\tvalidation_0-logloss:0.08404\n",
      "[24]\tvalidation_0-logloss:0.08252\n",
      "[25]\tvalidation_0-logloss:0.08363\n",
      "[26]\tvalidation_0-logloss:0.08221\n",
      "[27]\tvalidation_0-logloss:0.08006\n",
      "[28]\tvalidation_0-logloss:0.08012\n",
      "[29]\tvalidation_0-logloss:0.08106\n",
      "[30]\tvalidation_0-logloss:0.07912\n",
      "[31]\tvalidation_0-logloss:0.07902\n",
      "[32]\tvalidation_0-logloss:0.07828\n",
      "[33]\tvalidation_0-logloss:0.07763\n",
      "[34]\tvalidation_0-logloss:0.07815\n",
      "[35]\tvalidation_0-logloss:0.07717\n",
      "[36]\tvalidation_0-logloss:0.08030\n",
      "[37]\tvalidation_0-logloss:0.07981\n",
      "[38]\tvalidation_0-logloss:0.07970\n",
      "[39]\tvalidation_0-logloss:0.07979\n",
      "[40]\tvalidation_0-logloss:0.08142\n",
      "[41]\tvalidation_0-logloss:0.08108\n",
      "[42]\tvalidation_0-logloss:0.08093\n",
      "[43]\tvalidation_0-logloss:0.08288\n",
      "[44]\tvalidation_0-logloss:0.08297\n",
      "[45]\tvalidation_0-logloss:0.08286\n",
      "[46]\tvalidation_0-logloss:0.08421\n",
      "[47]\tvalidation_0-logloss:0.08398\n",
      "[48]\tvalidation_0-logloss:0.08323\n",
      "[49]\tvalidation_0-logloss:0.08398\n",
      "[50]\tvalidation_0-logloss:0.08317\n",
      "[51]\tvalidation_0-logloss:0.08331\n",
      "[52]\tvalidation_0-logloss:0.08325\n",
      "[53]\tvalidation_0-logloss:0.08248\n",
      "[54]\tvalidation_0-logloss:0.08220\n",
      "[55]\tvalidation_0-logloss:0.08152\n",
      "[56]\tvalidation_0-logloss:0.08139\n",
      "[57]\tvalidation_0-logloss:0.08152\n",
      "[58]\tvalidation_0-logloss:0.08088\n",
      "[59]\tvalidation_0-logloss:0.08083\n",
      "[60]\tvalidation_0-logloss:0.08148\n",
      "[61]\tvalidation_0-logloss:0.08076\n",
      "[62]\tvalidation_0-logloss:0.08069\n",
      "[63]\tvalidation_0-logloss:0.08011\n",
      "[64]\tvalidation_0-logloss:0.07985\n",
      "[65]\tvalidation_0-logloss:0.08013\n",
      "[66]\tvalidation_0-logloss:0.08075\n",
      "[67]\tvalidation_0-logloss:0.08075\n",
      "[68]\tvalidation_0-logloss:0.08018\n",
      "[69]\tvalidation_0-logloss:0.08022\n",
      "[70]\tvalidation_0-logloss:0.08028\n",
      "[71]\tvalidation_0-logloss:0.08027\n",
      "[72]\tvalidation_0-logloss:0.08066\n",
      "[73]\tvalidation_0-logloss:0.08046\n",
      "[74]\tvalidation_0-logloss:0.08022\n",
      "[75]\tvalidation_0-logloss:0.08049\n",
      "[76]\tvalidation_0-logloss:0.08103\n",
      "[77]\tvalidation_0-logloss:0.08086\n",
      "[78]\tvalidation_0-logloss:0.08093\n",
      "[79]\tvalidation_0-logloss:0.08098\n",
      "[80]\tvalidation_0-logloss:0.08100\n",
      "[81]\tvalidation_0-logloss:0.08151\n",
      "[82]\tvalidation_0-logloss:0.08136\n",
      "[83]\tvalidation_0-logloss:0.08115\n",
      "[84]\tvalidation_0-logloss:0.08078\n",
      "[85]\tvalidation_0-logloss:0.08082\n",
      "[86]\tvalidation_0-logloss:0.08086\n",
      "[87]\tvalidation_0-logloss:0.08052\n",
      "[88]\tvalidation_0-logloss:0.08057\n",
      "[89]\tvalidation_0-logloss:0.08081\n",
      "[90]\tvalidation_0-logloss:0.08051\n",
      "[91]\tvalidation_0-logloss:0.08086\n",
      "[92]\tvalidation_0-logloss:0.08069\n",
      "[93]\tvalidation_0-logloss:0.08040\n",
      "[94]\tvalidation_0-logloss:0.08045\n",
      "[95]\tvalidation_0-logloss:0.08050\n",
      "[96]\tvalidation_0-logloss:0.08072\n",
      "[97]\tvalidation_0-logloss:0.08045\n",
      "[98]\tvalidation_0-logloss:0.08078\n",
      "[99]\tvalidation_0-logloss:0.08044\n",
      "[100]\tvalidation_0-logloss:0.08018\n",
      "[101]\tvalidation_0-logloss:0.08049\n",
      "[102]\tvalidation_0-logloss:0.08070\n",
      "[103]\tvalidation_0-logloss:0.08045\n",
      "[104]\tvalidation_0-logloss:0.08013\n",
      "[105]\tvalidation_0-logloss:0.08007\n",
      "[106]\tvalidation_0-logloss:0.08011\n",
      "[107]\tvalidation_0-logloss:0.07986\n",
      "[108]\tvalidation_0-logloss:0.08016\n",
      "[109]\tvalidation_0-logloss:0.08036\n",
      "[110]\tvalidation_0-logloss:0.08013\n",
      "[111]\tvalidation_0-logloss:0.08019\n",
      "[112]\tvalidation_0-logloss:0.08023\n",
      "[113]\tvalidation_0-logloss:0.07999\n",
      "[114]\tvalidation_0-logloss:0.08028\n",
      "[115]\tvalidation_0-logloss:0.08048\n",
      "[116]\tvalidation_0-logloss:0.08017\n",
      "[117]\tvalidation_0-logloss:0.07995\n",
      "[118]\tvalidation_0-logloss:0.07990\n",
      "[119]\tvalidation_0-logloss:0.07994\n",
      "[120]\tvalidation_0-logloss:0.07997\n",
      "[121]\tvalidation_0-logloss:0.08002\n",
      "[122]\tvalidation_0-logloss:0.08006\n",
      "[123]\tvalidation_0-logloss:0.07986\n",
      "[124]\tvalidation_0-logloss:0.08012\n",
      "[125]\tvalidation_0-logloss:0.08031\n",
      "[126]\tvalidation_0-logloss:0.08004\n",
      "[127]\tvalidation_0-logloss:0.07984\n",
      "[128]\tvalidation_0-logloss:0.08009\n",
      "[129]\tvalidation_0-logloss:0.07974\n",
      "[130]\tvalidation_0-logloss:0.07978\n",
      "[131]\tvalidation_0-logloss:0.07982\n",
      "[132]\tvalidation_0-logloss:0.07963\n",
      "[133]\tvalidation_0-logloss:0.07980\n",
      "[134]\tvalidation_0-logloss:0.07956\n",
      "[135]\tvalidation_0-logloss:0.07939\n",
      "Stopping. Best iteration:\n",
      "[35]\tvalidation_0-logloss:0.07717\n",
      "\n"
     ]
    }
   ],
   "source": [
    "from xgboost import XGBClassifier\n",
    "\n",
    "xgb_wrapper = XGBClassifier(n_estimators = 400, learing_rate = 0.1, max_depth = 3)\n",
    "evals = [(x_test, y_test)]\n",
    "xgb_wrapper.fit(x_train, y_train, early_stopping_rounds = 100, eval_metric=\"logloss\",\n",
    "               eval_set = evals, verbose = True)\n",
    "ws100_preds = xgb_wrapper.predict(x_test)\n",
    "ws_100_pred_proba = xgb_wrapper.predict_proba(x_test)[:,1]"
   ]
  },
  {
   "cell_type": "code",
   "execution_count": 26,
   "metadata": {},
   "outputs": [
    {
     "name": "stdout",
     "output_type": "stream",
     "text": [
      "오차행렬\n",
      "[[35  2]\n",
      " [ 3 74]]\n",
      "정확도:0.9561, 정밀도:0.9737, 재현율:0.9610, F1:0.9673, AUC:0.9961\n"
     ]
    }
   ],
   "source": [
    "get_clf_eval(y_test, ws100_preds, ws_100_pred_proba)"
   ]
  },
  {
   "cell_type": "code",
   "execution_count": 27,
   "metadata": {},
   "outputs": [
    {
     "name": "stdout",
     "output_type": "stream",
     "text": [
      "[22:41:39] WARNING: /Users/travis/build/dmlc/xgboost/src/learner.cc:480: \n",
      "Parameters: { learing_rate } might not be used.\n",
      "\n",
      "  This may not be accurate due to some parameters are only used in language bindings but\n",
      "  passed down to XGBoost core.  Or some parameters are not used but slip through this\n",
      "  verification. Please open an issue if you find above cases.\n",
      "\n",
      "\n",
      "[0]\tvalidation_0-logloss:0.47902\n",
      "Will train until validation_0-logloss hasn't improved in 10 rounds.\n",
      "[1]\tvalidation_0-logloss:0.35869\n",
      "[2]\tvalidation_0-logloss:0.27721\n",
      "[3]\tvalidation_0-logloss:0.22113\n",
      "[4]\tvalidation_0-logloss:0.17888\n",
      "[5]\tvalidation_0-logloss:0.14323\n",
      "[6]\tvalidation_0-logloss:0.11928\n",
      "[7]\tvalidation_0-logloss:0.10080\n",
      "[8]\tvalidation_0-logloss:0.08699\n",
      "[9]\tvalidation_0-logloss:0.07417\n",
      "[10]\tvalidation_0-logloss:0.06607\n",
      "[11]\tvalidation_0-logloss:0.05963\n",
      "[12]\tvalidation_0-logloss:0.05341\n",
      "[13]\tvalidation_0-logloss:0.04833\n",
      "[14]\tvalidation_0-logloss:0.04418\n",
      "[15]\tvalidation_0-logloss:0.04058\n",
      "[16]\tvalidation_0-logloss:0.03774\n",
      "[17]\tvalidation_0-logloss:0.03563\n",
      "[18]\tvalidation_0-logloss:0.03437\n",
      "[19]\tvalidation_0-logloss:0.03319\n",
      "[20]\tvalidation_0-logloss:0.03216\n",
      "[21]\tvalidation_0-logloss:0.03117\n",
      "[22]\tvalidation_0-logloss:0.03025\n",
      "[23]\tvalidation_0-logloss:0.02948\n",
      "[24]\tvalidation_0-logloss:0.02874\n",
      "[25]\tvalidation_0-logloss:0.02802\n",
      "[26]\tvalidation_0-logloss:0.02735\n",
      "[27]\tvalidation_0-logloss:0.02671\n",
      "[28]\tvalidation_0-logloss:0.02617\n",
      "[29]\tvalidation_0-logloss:0.02565\n",
      "[30]\tvalidation_0-logloss:0.02512\n",
      "[31]\tvalidation_0-logloss:0.02464\n",
      "[32]\tvalidation_0-logloss:0.02426\n",
      "[33]\tvalidation_0-logloss:0.02391\n",
      "[34]\tvalidation_0-logloss:0.02359\n",
      "[35]\tvalidation_0-logloss:0.02326\n",
      "[36]\tvalidation_0-logloss:0.02299\n",
      "[37]\tvalidation_0-logloss:0.02272\n",
      "[38]\tvalidation_0-logloss:0.02248\n",
      "[39]\tvalidation_0-logloss:0.02221\n",
      "[40]\tvalidation_0-logloss:0.02199\n",
      "[41]\tvalidation_0-logloss:0.02176\n",
      "[42]\tvalidation_0-logloss:0.02155\n",
      "[43]\tvalidation_0-logloss:0.02138\n",
      "[44]\tvalidation_0-logloss:0.02124\n",
      "[45]\tvalidation_0-logloss:0.02113\n",
      "[46]\tvalidation_0-logloss:0.02113\n",
      "[47]\tvalidation_0-logloss:0.02113\n",
      "[48]\tvalidation_0-logloss:0.02113\n",
      "[49]\tvalidation_0-logloss:0.02113\n",
      "[50]\tvalidation_0-logloss:0.02113\n",
      "[51]\tvalidation_0-logloss:0.02113\n",
      "[52]\tvalidation_0-logloss:0.02113\n",
      "[53]\tvalidation_0-logloss:0.02113\n",
      "[54]\tvalidation_0-logloss:0.02113\n",
      "[55]\tvalidation_0-logloss:0.02113\n",
      "Stopping. Best iteration:\n",
      "[45]\tvalidation_0-logloss:0.02113\n",
      "\n",
      "오차행렬\n",
      "[[37  0]\n",
      " [ 0 77]]\n",
      "정확도:1.0000, 정밀도:1.0000, 재현율:1.0000, F1:1.0000, AUC:1.0000\n"
     ]
    }
   ],
   "source": [
    "# early_stopping_rounds를 10으로 설정하고 재학습.\n",
    "xgb_wrapper.fit(x_test, y_test, early_stopping_rounds = 10,\n",
    "               eval_metric = \"logloss\", eval_set = evals, verbose = True)\n",
    "\n",
    "ws10_preds = xgb_wrapper.predict(x_test)\n",
    "ws10_pred_porba = xgb_wrapper.predict_proba(x_test)[:,1]\n",
    "get_clf_eval(y_test, ws10_preds, ws10_pred_porba)"
   ]
  },
  {
   "cell_type": "code",
   "execution_count": 28,
   "metadata": {},
   "outputs": [
    {
     "data": {
      "text/plain": [
       "<matplotlib.axes._subplots.AxesSubplot at 0x7ffb12ae2450>"
      ]
     },
     "execution_count": 28,
     "metadata": {},
     "output_type": "execute_result"
    },
    {
     "data": {
      "image/png": "[encoded data removed]",
      "text/plain": [
       "<Figure size 720x864 with 1 Axes>"
      ]
     },
     "metadata": {
      "needs_background": "light"
     },
     "output_type": "display_data"
    }
   ],
   "source": [
    "from xgboost import plot_importance\n",
    "\n",
    "fig, ax = plt.subplots(figsize=(10, 12))\n",
    "# 사이킷런 Wrapper 클래스를 입력해도 무방.\n",
    "plot_importance(xgb_wrapper, ax=ax)"
   ]
  },
  {
   "cell_type": "code",
   "execution_count": 29,
   "metadata": {},
   "outputs": [
    {
     "name": "stdout",
     "output_type": "stream",
     "text": [
      "Collecting lightgbm\n",
      "  Downloading lightgbm-3.0.0-py2.py3-none-macosx_10_13_x86_64.macosx_10_14_x86_64.macosx_10_15_x86_64.whl (1.0 MB)\n",
      "\u001b[K     |████████████████████████████████| 1.0 MB 1.2 MB/s eta 0:00:01\n",
      "\u001b[?25hRequirement already satisfied: scipy in /Users/mac/opt/anaconda3/lib/python3.7/site-packages (from lightgbm) (1.4.1)\n",
      "Requirement already satisfied: scikit-learn!=0.22.0 in /Users/mac/opt/anaconda3/lib/python3.7/site-packages (from lightgbm) (0.23.1)\n",
      "Requirement already satisfied: numpy in /Users/mac/opt/anaconda3/lib/python3.7/site-packages (from lightgbm) (1.18.1)\n",
      "Requirement already satisfied: joblib>=0.11 in /Users/mac/opt/anaconda3/lib/python3.7/site-packages (from scikit-learn!=0.22.0->lightgbm) (0.14.1)\n",
      "Requirement already satisfied: threadpoolctl>=2.0.0 in /Users/mac/opt/anaconda3/lib/python3.7/site-packages (from scikit-learn!=0.22.0->lightgbm) (2.1.0)\n",
      "Installing collected packages: lightgbm\n",
      "Successfully installed lightgbm-3.0.0\n",
      "\u001b[33mWARNING: You are using pip version 20.1.1; however, version 20.2.3 is available.\n",
      "You should consider upgrading via the '/Users/mac/opt/anaconda3/bin/python -m pip install --upgrade pip' command.\u001b[0m\n"
     ]
    }
   ],
   "source": [
    "# LightGBM의 단점\n",
    "# 10000개 이하의 데이터 포인트에 적용 시 과적합이 쉽게 발생\n",
    "# Leaf Wise 리프 중심 트리 분할\n",
    "# 카테고리형 피처의 자동 변환과 처적분활(원-핫 인코딩 사용이 필요 없음)\n",
    "!pip install lightgbm"
   ]
  },
  {
   "cell_type": "code",
   "execution_count": 30,
   "metadata": {},
   "outputs": [
    {
     "name": "stdout",
     "output_type": "stream",
     "text": [
      "[LightGBM] [Warning] Unknown parameter: n_estimaotrs\n",
      "[1]\tvalid_0's binary_logloss: 0.565079\n",
      "Training until validation scores don't improve for 100 rounds\n",
      "[2]\tvalid_0's binary_logloss: 0.507451\n",
      "[3]\tvalid_0's binary_logloss: 0.458489\n",
      "[4]\tvalid_0's binary_logloss: 0.417481\n",
      "[5]\tvalid_0's binary_logloss: 0.385507\n",
      "[6]\tvalid_0's binary_logloss: 0.355773\n",
      "[7]\tvalid_0's binary_logloss: 0.329587\n",
      "[8]\tvalid_0's binary_logloss: 0.308478\n",
      "[9]\tvalid_0's binary_logloss: 0.285395\n",
      "[10]\tvalid_0's binary_logloss: 0.267055\n",
      "[11]\tvalid_0's binary_logloss: 0.252013\n",
      "[12]\tvalid_0's binary_logloss: 0.237018\n",
      "[13]\tvalid_0's binary_logloss: 0.224756\n",
      "[14]\tvalid_0's binary_logloss: 0.213383\n",
      "[15]\tvalid_0's binary_logloss: 0.203058\n",
      "[16]\tvalid_0's binary_logloss: 0.194015\n",
      "[17]\tvalid_0's binary_logloss: 0.186412\n",
      "[18]\tvalid_0's binary_logloss: 0.179108\n",
      "[19]\tvalid_0's binary_logloss: 0.174004\n",
      "[20]\tvalid_0's binary_logloss: 0.167155\n",
      "[21]\tvalid_0's binary_logloss: 0.162494\n",
      "[22]\tvalid_0's binary_logloss: 0.156886\n",
      "[23]\tvalid_0's binary_logloss: 0.152855\n",
      "[24]\tvalid_0's binary_logloss: 0.151113\n",
      "[25]\tvalid_0's binary_logloss: 0.148395\n",
      "[26]\tvalid_0's binary_logloss: 0.145869\n",
      "[27]\tvalid_0's binary_logloss: 0.143036\n",
      "[28]\tvalid_0's binary_logloss: 0.14033\n",
      "[29]\tvalid_0's binary_logloss: 0.139609\n",
      "[30]\tvalid_0's binary_logloss: 0.136109\n",
      "[31]\tvalid_0's binary_logloss: 0.134867\n",
      "[32]\tvalid_0's binary_logloss: 0.134729\n",
      "[33]\tvalid_0's binary_logloss: 0.1311\n",
      "[34]\tvalid_0's binary_logloss: 0.131143\n",
      "[35]\tvalid_0's binary_logloss: 0.129435\n",
      "[36]\tvalid_0's binary_logloss: 0.128474\n",
      "[37]\tvalid_0's binary_logloss: 0.126683\n",
      "[38]\tvalid_0's binary_logloss: 0.126112\n",
      "[39]\tvalid_0's binary_logloss: 0.122831\n",
      "[40]\tvalid_0's binary_logloss: 0.123162\n",
      "[41]\tvalid_0's binary_logloss: 0.125592\n",
      "[42]\tvalid_0's binary_logloss: 0.128293\n",
      "[43]\tvalid_0's binary_logloss: 0.128123\n",
      "[44]\tvalid_0's binary_logloss: 0.12789\n",
      "[45]\tvalid_0's binary_logloss: 0.122818\n",
      "[46]\tvalid_0's binary_logloss: 0.12496\n",
      "[47]\tvalid_0's binary_logloss: 0.125578\n",
      "[48]\tvalid_0's binary_logloss: 0.127381\n",
      "[49]\tvalid_0's binary_logloss: 0.128349\n",
      "[50]\tvalid_0's binary_logloss: 0.127004\n",
      "[51]\tvalid_0's binary_logloss: 0.130288\n",
      "[52]\tvalid_0's binary_logloss: 0.131362\n",
      "[53]\tvalid_0's binary_logloss: 0.133363\n",
      "[54]\tvalid_0's binary_logloss: 0.1332\n",
      "[55]\tvalid_0's binary_logloss: 0.134543\n",
      "[56]\tvalid_0's binary_logloss: 0.130803\n",
      "[57]\tvalid_0's binary_logloss: 0.130306\n",
      "[58]\tvalid_0's binary_logloss: 0.132514\n",
      "[59]\tvalid_0's binary_logloss: 0.133278\n",
      "[60]\tvalid_0's binary_logloss: 0.134804\n",
      "[61]\tvalid_0's binary_logloss: 0.136888\n",
      "[62]\tvalid_0's binary_logloss: 0.138745\n",
      "[63]\tvalid_0's binary_logloss: 0.140497\n",
      "[64]\tvalid_0's binary_logloss: 0.141368\n",
      "[65]\tvalid_0's binary_logloss: 0.140764\n",
      "[66]\tvalid_0's binary_logloss: 0.14348\n",
      "[67]\tvalid_0's binary_logloss: 0.143418\n",
      "[68]\tvalid_0's binary_logloss: 0.143682\n",
      "[69]\tvalid_0's binary_logloss: 0.145076\n",
      "[70]\tvalid_0's binary_logloss: 0.14686\n",
      "[71]\tvalid_0's binary_logloss: 0.148051\n",
      "[72]\tvalid_0's binary_logloss: 0.147664\n",
      "[73]\tvalid_0's binary_logloss: 0.149478\n",
      "[74]\tvalid_0's binary_logloss: 0.14708\n",
      "[75]\tvalid_0's binary_logloss: 0.14545\n",
      "[76]\tvalid_0's binary_logloss: 0.148767\n",
      "[77]\tvalid_0's binary_logloss: 0.149959\n",
      "[78]\tvalid_0's binary_logloss: 0.146083\n",
      "[79]\tvalid_0's binary_logloss: 0.14638\n",
      "[80]\tvalid_0's binary_logloss: 0.148461\n",
      "[81]\tvalid_0's binary_logloss: 0.15091\n",
      "[82]\tvalid_0's binary_logloss: 0.153011\n",
      "[83]\tvalid_0's binary_logloss: 0.154807\n",
      "[84]\tvalid_0's binary_logloss: 0.156501\n",
      "[85]\tvalid_0's binary_logloss: 0.158586\n",
      "[86]\tvalid_0's binary_logloss: 0.159819\n",
      "[87]\tvalid_0's binary_logloss: 0.161745\n",
      "[88]\tvalid_0's binary_logloss: 0.162829\n",
      "[89]\tvalid_0's binary_logloss: 0.159142\n",
      "[90]\tvalid_0's binary_logloss: 0.156765\n",
      "[91]\tvalid_0's binary_logloss: 0.158625\n",
      "[92]\tvalid_0's binary_logloss: 0.156832\n",
      "[93]\tvalid_0's binary_logloss: 0.154616\n",
      "[94]\tvalid_0's binary_logloss: 0.154263\n",
      "[95]\tvalid_0's binary_logloss: 0.157156\n",
      "[96]\tvalid_0's binary_logloss: 0.158617\n",
      "[97]\tvalid_0's binary_logloss: 0.157495\n",
      "[98]\tvalid_0's binary_logloss: 0.159413\n",
      "[99]\tvalid_0's binary_logloss: 0.15847\n",
      "[100]\tvalid_0's binary_logloss: 0.160746\n",
      "Did not meet early stopping. Best iteration is:\n",
      "[45]\tvalid_0's binary_logloss: 0.122818\n"
     ]
    }
   ],
   "source": [
    "# LightGBM 하이퍼 파라미터\n",
    "# n_estimators : 반복 수행하려는 트리의 개수\n",
    "# learning_rate\n",
    "# max_depth\n",
    "# min_child_samples\n",
    "# num_leaves : 하나의 트리가 가질 수 있는 최대 리프 개수\n",
    "# boosting: 부스팅의 트리를 생성하는 알고리즘(default = gbdt)\n",
    "# subsample : 트리가 커져서 과적합되는 것을 제어하기 위해서 데이터를 샘플링하는 비율\n",
    "# colsample_bytree : 무직로 선택하는 피처의 비율\n",
    "# reg_lambda\n",
    "# reg_alpha\n",
    "\n",
    "# LightGBM의 파이썬 패키지인 lightgbm에서 LGBMClassifier 임포트\n",
    "from lightgbm import LGBMClassifier\n",
    "\n",
    "dataset = load_breast_cancer()\n",
    "ftr = dataset.data\n",
    "target = dataset.target\n",
    "\n",
    "# 전체 데이터 중 80%는 학습용 데이터, 20%는 테스트용 데이터 추출\n",
    "x_train, x_test, y_train, y_test = train_test_split(ftr, target, test_size=0.2,\n",
    "                                                   random_state=156)\n",
    "\n",
    "# 앞서 XGBoost와 동일하게 n_estimators는 400 설정.\n",
    "lgbm_wrapper = LGBMClassifier(n_estimaotrs = 400)\n",
    "\n",
    "# LightGBM도 XGBoost와 동일하게 조기 중단 수행 가능.\n",
    "evals = [(x_test, y_test)]\n",
    "lgbm_wrapper.fit(x_train, y_train, early_stopping_rounds=100, eval_metric=\"logloss\",\n",
    "                eval_set=evals, verbose = True)\n",
    "preds = lgbm_wrapper.predict(x_test)\n",
    "pred_proba = lgbm_wrapper.predict_proba(x_test)[:,1]"
   ]
  },
  {
   "cell_type": "code",
   "execution_count": 31,
   "metadata": {},
   "outputs": [
    {
     "name": "stdout",
     "output_type": "stream",
     "text": [
      "오차행렬\n",
      "[[33  4]\n",
      " [ 1 76]]\n",
      "정확도:0.9561, 정밀도:0.9500, 재현율:0.9870, F1:0.9682, AUC:0.9905\n"
     ]
    }
   ],
   "source": [
    "get_clf_eval(y_test, preds, pred_proba)"
   ]
  },
  {
   "cell_type": "code",
   "execution_count": 32,
   "metadata": {},
   "outputs": [
    {
     "data": {
      "text/plain": [
       "<matplotlib.axes._subplots.AxesSubplot at 0x7ffb12b4b310>"
      ]
     },
     "execution_count": 32,
     "metadata": {},
     "output_type": "execute_result"
    },
    {
     "data": {
      "image/png": "[encoded data removed]",
      "text/plain": [
       "<Figure size 720x864 with 1 Axes>"
      ]
     },
     "metadata": {
      "needs_background": "light"
     },
     "output_type": "display_data"
    }
   ],
   "source": [
    "# plot_importance()를 이용해 피처 중요도 시각화\n",
    "from lightgbm import plot_importance\n",
    "\n",
    "fig, ax = plt.subplots(figsize = (10, 12))\n",
    "plot_importance(lgbm_wrapper, ax=ax)"
   ]
  },
  {
   "cell_type": "code",
   "execution_count": null,
   "metadata": {},
   "outputs": [],
   "source": []
  }
 ],
 "metadata": {
  "kernelspec": {
   "display_name": "Python 3",
   "language": "python",
   "name": "python3"
  },
  "language_info": {
   "codemirror_mode": {
    "name": "ipython",
    "version": 3
   },
   "file_extension": ".py",
   "mimetype": "text/x-python",
   "name": "python",
   "nbconvert_exporter": "python",
   "pygments_lexer": "ipython3",
   "version": "3.7.6"
  }
 },
 "nbformat": 4,
 "nbformat_minor": 4
}
